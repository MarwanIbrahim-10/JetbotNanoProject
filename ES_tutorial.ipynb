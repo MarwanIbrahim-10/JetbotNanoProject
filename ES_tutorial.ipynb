{
 "cells": [
  {
   "cell_type": "markdown",
   "id": "coordinate-insert",
   "metadata": {},
   "source": [
    "# Hello and welcome to Hazem's grand return (and limited time) return as a teaching assistant"
   ]
  },
  {
   "cell_type": "markdown",
   "id": "internal-toilet",
   "metadata": {},
   "source": [
    "This tutorial will cover three things, movement, image capture and working with images"
   ]
  },
  {
   "cell_type": "markdown",
   "id": "surprising-priest",
   "metadata": {},
   "source": [
    "Please note that due to limited time this is very much a bit of a patchy job and is only meant to get you started. It is quite likely that there may be better ways of doing some of this, or some issues that I have not addressed, so feel free to explore and tinker around with things!\n",
    "\n",
    "and also my apologies if any of this is incorrect, take with a grain of salt (as always)"
   ]
  },
  {
   "cell_type": "markdown",
   "id": "apparent-drill",
   "metadata": {},
   "source": [
    "## Movement\n",
    "I've included the following code snippet with a rundown of the commands you'll need. You don't need to run this snippet, but you can if you'd like to see your robot moving around for a bit\n",
    "\n",
    "# DEFINETELY DON'T RUN THIS IF YOUR ROBOT IS ON A TABLE/IS CONNECTED TO SOME WIRES/IS NOT IN A POSITION TO MOVE"
   ]
  },
  {
   "cell_type": "code",
   "execution_count": 4,
   "id": "adapted-means",
   "metadata": {},
   "outputs": [],
   "source": [
    "from jetbot import Robot #the Robot class contains the methods we'll use to get the robot moving\n",
    "import time #for time-based functions (IE sleep, which coincidentally is what I should be doing right now)\n",
    "\n",
    "Gundam = Robot() #first you'll need to initialize a robot object, in this case we affectionately named it Gundam, but use whatever name suits your fancy\n",
    "\n",
    "Gundam.left_motor.value = 0.2 #sets the value of the left motor\n",
    "Gundam.right_motor.value = -0.2 #sets the value of the right motor (gasp), you'll notice you can also use negative values\n",
    "time.sleep(1) #stops anything from happening for as many seconds as you specify\n",
    "\n",
    "Gundam.stop() #stops the robot in its tracks\n",
    "\n",
    "Gundam.left(0.2) #moves to the left at a speed of 0.2 (don't ask me what units)\n",
    "Gundam.right(0.2) #moves to the right\n",
    "Gundam.forward(0.2) # you can figure this out by now\n",
    "Gundam.backward(0.2) \n",
    "\n",
    "Gundam.set_motors(0.3, 0.6) #allows you to set the speeds of both motors simultaneously. In this case we assigned 0.3, 0.6 to left, right\n",
    "\n",
    "Gundam.stop()"
   ]
  },
  {
   "cell_type": "markdown",
   "id": "tropical-perspective",
   "metadata": {},
   "source": [
    "## Fetching images\n",
    "\n",
    "As you can probably tell by now I'm mostly getting info from the provided tutorials and putting it all in one place for you (but you should still go through those as well because they might be helpful)\n",
    "\n",
    "The way they fetch images is a bit weird. But here goes\n",
    "\n",
    "I've also ran into an issue with camera initialization that requires a restart. You may run into the same thing as well, so something to keep in mind."
   ]
  },
  {
   "cell_type": "code",
   "execution_count": 5,
   "id": "vanilla-conditioning",
   "metadata": {},
   "outputs": [
    {
     "ename": "RuntimeError",
     "evalue": "Could not initialize camera.  Please see error trace.",
     "output_type": "error",
     "traceback": [
      "\u001b[0;31m\u001b[0m",
      "\u001b[0;31mRuntimeError\u001b[0mTraceback (most recent call last)",
      "\u001b[0;32m/usr/local/lib/python3.6/dist-packages/jetbot-0.4.3-py3.6.egg/jetbot/camera/opencv_gst_camera.py\u001b[0m in \u001b[0;36m__init__\u001b[0;34m(self, *args, **kwargs)\u001b[0m\n\u001b[1;32m     29\u001b[0m             \u001b[0;32mif\u001b[0m \u001b[0;32mnot\u001b[0m \u001b[0mre\u001b[0m\u001b[0;34m:\u001b[0m\u001b[0;34m\u001b[0m\u001b[0;34m\u001b[0m\u001b[0m\n\u001b[0;32m---> 30\u001b[0;31m                 \u001b[0;32mraise\u001b[0m \u001b[0mRuntimeError\u001b[0m\u001b[0;34m(\u001b[0m\u001b[0;34m'Could not read image from camera.'\u001b[0m\u001b[0;34m)\u001b[0m\u001b[0;34m\u001b[0m\u001b[0;34m\u001b[0m\u001b[0m\n\u001b[0m\u001b[1;32m     31\u001b[0m \u001b[0;34m\u001b[0m\u001b[0m\n",
      "\u001b[0;31mRuntimeError\u001b[0m: Could not read image from camera.",
      "\nDuring handling of the above exception, another exception occurred:\n",
      "\u001b[0;31mRuntimeError\u001b[0mTraceback (most recent call last)",
      "\u001b[0;32m<ipython-input-5-0d70c4c64033>\u001b[0m in \u001b[0;36m<module>\u001b[0;34m\u001b[0m\n\u001b[1;32m      4\u001b[0m \u001b[0;32mfrom\u001b[0m \u001b[0mjetbot\u001b[0m \u001b[0;32mimport\u001b[0m \u001b[0mCamera\u001b[0m\u001b[0;34m,\u001b[0m \u001b[0mbgr8_to_jpeg\u001b[0m\u001b[0;34m\u001b[0m\u001b[0;34m\u001b[0m\u001b[0m\n\u001b[1;32m      5\u001b[0m \u001b[0;34m\u001b[0m\u001b[0m\n\u001b[0;32m----> 6\u001b[0;31m \u001b[0mcamera\u001b[0m \u001b[0;34m=\u001b[0m \u001b[0mCamera\u001b[0m\u001b[0;34m.\u001b[0m\u001b[0minstance\u001b[0m\u001b[0;34m(\u001b[0m\u001b[0mwidth\u001b[0m\u001b[0;34m=\u001b[0m\u001b[0;36m224\u001b[0m\u001b[0;34m,\u001b[0m \u001b[0mheight\u001b[0m\u001b[0;34m=\u001b[0m\u001b[0;36m224\u001b[0m\u001b[0;34m)\u001b[0m \u001b[0;31m#initializes the camera instance\u001b[0m\u001b[0;34m\u001b[0m\u001b[0;34m\u001b[0m\u001b[0m\n\u001b[0m\u001b[1;32m      7\u001b[0m \u001b[0mimage\u001b[0m \u001b[0;34m=\u001b[0m \u001b[0mwidgets\u001b[0m\u001b[0;34m.\u001b[0m\u001b[0mImage\u001b[0m\u001b[0;34m(\u001b[0m\u001b[0mformat\u001b[0m\u001b[0;34m=\u001b[0m\u001b[0;34m'jpeg'\u001b[0m\u001b[0;34m,\u001b[0m \u001b[0mwidth\u001b[0m\u001b[0;34m=\u001b[0m\u001b[0;36m224\u001b[0m\u001b[0;34m,\u001b[0m \u001b[0mheight\u001b[0m\u001b[0;34m=\u001b[0m\u001b[0;36m224\u001b[0m\u001b[0;34m)\u001b[0m  \u001b[0;31m# this width and height doesn't necessarily have to match the camera\u001b[0m\u001b[0;34m\u001b[0m\u001b[0;34m\u001b[0m\u001b[0m\n\u001b[1;32m      8\u001b[0m \u001b[0mcamera_link\u001b[0m \u001b[0;34m=\u001b[0m \u001b[0mtraitlets\u001b[0m\u001b[0;34m.\u001b[0m\u001b[0mdlink\u001b[0m\u001b[0;34m(\u001b[0m\u001b[0;34m(\u001b[0m\u001b[0mcamera\u001b[0m\u001b[0;34m,\u001b[0m \u001b[0;34m'value'\u001b[0m\u001b[0;34m)\u001b[0m\u001b[0;34m,\u001b[0m \u001b[0;34m(\u001b[0m\u001b[0mimage\u001b[0m\u001b[0;34m,\u001b[0m \u001b[0;34m'value'\u001b[0m\u001b[0;34m)\u001b[0m\u001b[0;34m,\u001b[0m \u001b[0mtransform\u001b[0m\u001b[0;34m=\u001b[0m\u001b[0mbgr8_to_jpeg\u001b[0m\u001b[0;34m)\u001b[0m\u001b[0;34m\u001b[0m\u001b[0;34m\u001b[0m\u001b[0m\n",
      "\u001b[0;32m/usr/local/lib/python3.6/dist-packages/jetbot-0.4.3-py3.6.egg/jetbot/camera/opencv_gst_camera.py\u001b[0m in \u001b[0;36minstance\u001b[0;34m(*args, **kwargs)\u001b[0m\n\u001b[1;32m     70\u001b[0m     \u001b[0;34m@\u001b[0m\u001b[0mstaticmethod\u001b[0m\u001b[0;34m\u001b[0m\u001b[0;34m\u001b[0m\u001b[0m\n\u001b[1;32m     71\u001b[0m     \u001b[0;32mdef\u001b[0m \u001b[0minstance\u001b[0m\u001b[0;34m(\u001b[0m\u001b[0;34m*\u001b[0m\u001b[0margs\u001b[0m\u001b[0;34m,\u001b[0m \u001b[0;34m**\u001b[0m\u001b[0mkwargs\u001b[0m\u001b[0;34m)\u001b[0m\u001b[0;34m:\u001b[0m\u001b[0;34m\u001b[0m\u001b[0;34m\u001b[0m\u001b[0m\n\u001b[0;32m---> 72\u001b[0;31m         \u001b[0;32mreturn\u001b[0m \u001b[0mOpenCvGstCamera\u001b[0m\u001b[0;34m(\u001b[0m\u001b[0;34m*\u001b[0m\u001b[0margs\u001b[0m\u001b[0;34m,\u001b[0m \u001b[0;34m**\u001b[0m\u001b[0mkwargs\u001b[0m\u001b[0;34m)\u001b[0m\u001b[0;34m\u001b[0m\u001b[0;34m\u001b[0m\u001b[0m\n\u001b[0m",
      "\u001b[0;32m/usr/local/lib/python3.6/dist-packages/jetbot-0.4.3-py3.6.egg/jetbot/camera/opencv_gst_camera.py\u001b[0m in \u001b[0;36m__init__\u001b[0;34m(self, *args, **kwargs)\u001b[0m\n\u001b[1;32m     35\u001b[0m             \u001b[0mself\u001b[0m\u001b[0;34m.\u001b[0m\u001b[0mstop\u001b[0m\u001b[0;34m(\u001b[0m\u001b[0;34m)\u001b[0m\u001b[0;34m\u001b[0m\u001b[0;34m\u001b[0m\u001b[0m\n\u001b[1;32m     36\u001b[0m             raise RuntimeError(\n\u001b[0;32m---> 37\u001b[0;31m                 'Could not initialize camera.  Please see error trace.')\n\u001b[0m\u001b[1;32m     38\u001b[0m \u001b[0;34m\u001b[0m\u001b[0m\n\u001b[1;32m     39\u001b[0m         \u001b[0matexit\u001b[0m\u001b[0;34m.\u001b[0m\u001b[0mregister\u001b[0m\u001b[0;34m(\u001b[0m\u001b[0mself\u001b[0m\u001b[0;34m.\u001b[0m\u001b[0mstop\u001b[0m\u001b[0;34m)\u001b[0m\u001b[0;34m\u001b[0m\u001b[0;34m\u001b[0m\u001b[0m\n",
      "\u001b[0;31mRuntimeError\u001b[0m: Could not initialize camera.  Please see error trace."
     ]
    }
   ],
   "source": [
    "import traitlets\n",
    "import ipywidgets.widgets as widgets\n",
    "from IPython.display import display\n",
    "from jetbot import Camera, bgr8_to_jpeg\n",
    "\n",
    "camera = Camera.instance(width=224, height=224) #initializes the camera instance\n",
    "image = widgets.Image(format='jpeg', width=224, height=224)  # this width and height doesn't necessarily have to match the camera\n",
    "camera_link = traitlets.dlink((camera, 'value'), (image, 'value'), transform=bgr8_to_jpeg)\n",
    "\n",
    "#the past three lines of code do things that I do not completely understand nor am I really in the mood to fix that, but it's a way to get things initialized.\n",
    "#now whenever we access the image variable it will contain the most recent camera image\n",
    "\n",
    "display(image) #this is not necessary, for illustrative purposes only"
   ]
  },
  {
   "cell_type": "markdown",
   "id": "brief-mapping",
   "metadata": {},
   "source": [
    "## Working with images\n",
    "\n",
    "Now you have your camera working, and you can access its contens via the image variable\n",
    "What's that you say? \"Hazem, this is terrible, the image is in bytes format and I cannot work with it, whatever shall I do?\" (dialogue may be exaggerated)\n",
    "\n",
    "Well that's what we'll cover in this section. I'll illustrate how to save images and how to convert them into numpy arrays. There are other formats that could be useful for you, such as tensors, examples of which you can find in the rest of the docs"
   ]
  },
  {
   "cell_type": "code",
   "execution_count": null,
   "id": "falling-louisville",
   "metadata": {},
   "outputs": [],
   "source": [
    "#converting to numpy\n",
    "\n",
    "import io\n",
    "from PIL import Image\n",
    "import numpy as np\n",
    "\n",
    "def convert_image_to_numpy() #don't shame my function naming\n",
    "    imageBinaryBytes = image.value\n",
    "    imageStream = io.BytesIO(imageBinaryBytes)\n",
    "    imageFile = Image.open(imageStream)\n",
    "    I = np.asarray(imageFile)\n",
    "    return I\n",
    "\n",
    "#saving image as jpeg\n",
    "\n",
    "from uuid import uuid1 #to generate file names\n",
    "\n",
    "def save_snapshot(directory):\n",
    "    image_path = os.path.join(directory, str(uuid1()) + '.jpg') #uuid1 here is a fancy way of generating file names that won't be\n",
    "                                                                #repeated, you can just as easily use a counter\n",
    "    with open(image_path, 'wb') as f:\n",
    "        f.write(image.value)"
   ]
  }
 ],
 "metadata": {
  "kernelspec": {
   "display_name": "Python 3",
   "language": "python",
   "name": "python3"
  },
  "language_info": {
   "codemirror_mode": {
    "name": "ipython",
    "version": 3
   },
   "file_extension": ".py",
   "mimetype": "text/x-python",
   "name": "python",
   "nbconvert_exporter": "python",
   "pygments_lexer": "ipython3",
   "version": "3.6.9"
  }
 },
 "nbformat": 4,
 "nbformat_minor": 5
}
